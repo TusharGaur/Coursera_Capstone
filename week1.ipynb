{
 "cells": [
  {
   "cell_type": "markdown",
   "metadata": {},
   "source": [
    "## Problem & its Solution"
   ]
  },
  {
   "cell_type": "markdown",
   "metadata": {},
   "source": [
    "### PROBLEM:-My client named xyz own's a zostel business(Zostel is a place where backpackers can come and spend their time with other tourists and gain knowledge about cultures, different types of food and how to make friendship. This business was started with a vision to promote traveling as a way of life.) wants to expand the business in the  different neighbourhoods in the Delhi region based on the similar features of neighbourhood"
   ]
  },
  {
   "cell_type": "markdown",
   "metadata": {},
   "source": [
    "### SOLUTION:-We have to divide the neighbourhoods into the clusters based on there surronding  available features"
   ]
  },
  {
   "cell_type": "markdown",
   "metadata": {},
   "source": [
    "## Data  Set  Used  in Project"
   ]
  },
  {
   "cell_type": "markdown",
   "metadata": {},
   "source": [
    "### For our data set we need the all the neighbourhood list along with the latitude and longitude of delhi region\n"
   ]
  },
  {
   "cell_type": "code",
   "execution_count": 4,
   "metadata": {},
   "outputs": [],
   "source": [
    "import pandas as pd\n",
    "import numpy as np"
   ]
  },
  {
   "cell_types": "code",
   "execution_count": 7,
   "metadata": {},
   "outputs": [],
   "source": [
    "delhi_df=pd.read_csv(\"Downloads/datasetdelhi.csv\")"
   ]
  },
  {
   "cell_type": "code",
   "execution_count": 8,
   "metadata": {},
   "outputs": [
    {
     "data": {
      "text/html": [
       "<div>\n",
       "<style scoped>\n",
       "    .dataframe tbody tr th:only-of-type {\n",
       "        vertical-align: middle;\n",
       "    }\n",
       "\n",
       "    .dataframe tbody tr th {\n",
       "        vertical-align: top;\n",
       "    }\n",
       "\n",
       "    .dataframe thead th {\n",
       "        text-align: right;\n",
       "    }\n",
       "</style>\n",
       "<table border=\"1\" class=\"dataframe\">\n",
       "  <thead>\n",
       "    <tr style=\"text-align: right;\">\n",
       "      <th></th>\n",
       "      <th>Unnamed: 0</th>\n",
       "      <th>Borough</th>\n",
       "      <th>Neighborhood</th>\n",
       "      <th>latitude</th>\n",
       "      <th>longitude</th>\n",
       "    </tr>\n",
       "  </thead>\n",
       "  <tbody>\n",
       "    <tr>\n",
       "      <th>0</th>\n",
       "      <td>0</td>\n",
       "      <td>North West Delhi</td>\n",
       "      <td>Adarsh Nagar</td>\n",
       "      <td>28.614192</td>\n",
       "      <td>77.071541</td>\n",
       "    </tr>\n",
       "    <tr>\n",
       "      <th>1</th>\n",
       "      <td>1</td>\n",
       "      <td>North West Delhi</td>\n",
       "      <td>Ashok Vihar</td>\n",
       "      <td>28.699453</td>\n",
       "      <td>77.184826</td>\n",
       "    </tr>\n",
       "    <tr>\n",
       "      <th>2</th>\n",
       "      <td>2</td>\n",
       "      <td>North West Delhi</td>\n",
       "      <td>Azadpur</td>\n",
       "      <td>28.707657</td>\n",
       "      <td>77.175547</td>\n",
       "    </tr>\n",
       "    <tr>\n",
       "      <th>3</th>\n",
       "      <td>3</td>\n",
       "      <td>North West Delhi</td>\n",
       "      <td>Bawana</td>\n",
       "      <td>28.799660</td>\n",
       "      <td>77.032885</td>\n",
       "    </tr>\n",
       "    <tr>\n",
       "      <th>4</th>\n",
       "      <td>4</td>\n",
       "      <td>North West Delhiw</td>\n",
       "      <td>Begum Pur</td>\n",
       "      <td>28.727273</td>\n",
       "      <td>77.064045</td>\n",
       "    </tr>\n",
       "  </tbody>\n",
       "</table>\n",
       "</div>"
      ],
      "text/plain": [
       "   Unnamed: 0           Borough  Neighborhood   latitude  longitude\n",
       "0           0  North West Delhi  Adarsh Nagar  28.614192  77.071541\n",
       "1           1  North West Delhi   Ashok Vihar  28.699453  77.184826\n",
       "2           2  North West Delhi       Azadpur  28.707657  77.175547\n",
       "3           3  North West Delhi        Bawana  28.799660  77.032885\n",
       "4           4  North West Delhi     Begum Pur  28.727273  77.064045"
      ]
     },
     "execution_count": 8,
     "metadata": {},
     "output_type": "execute_result"
    }
   ],
   "source": [
    "delhi_df.head()"
   ]
  },
  {
   "cell_type": "code",
   "execution_count": 10,
   "metadata": {},
   "outputs": [
    {
     "data": {
      "text/plain": [
       "array(['North West Delhi', 'North Delhi', 'North East Delhi',\n",
       "       'Central Delhi', 'New Delhi', 'East Delhi', 'South Delhi',\n",
       "       'South West Delhi', 'West Delhi'], dtype=object)"
      ]
     },
     "execution_count": 10,
     "metadata": {},
     "output_type": "execute_result"
    }
   ],
   "source": [
    "delhi_df['Borough'].unique()"
   ]
  },
  {
   "cell_type": "code",
   "execution_count": 11,
   "metadata": {},
   "outputs": [
    {
     "data": {
      "text/plain": [
       "184"
      ]
     },
     "execution_count": 11,
     "metadata": {},
     "output_type": "execute_result"
    }
   ],
   "source": [
    "delhi_df['Neighborhood'].count()"
   ]
  },
  {
   "cell_type": "code",
   "execution_count": null,
   "metadata": {},
   "outputs": [],
   "source": []
  }
 ],
 "metadata": {
  "kernelspec": {
   "display_name": "Python 3",
   "language": "python",
   "name": "python3"
  },
  "language_info": {
   "codemirror_mode": {
    "name": "ipython",
    "version": 3
   },
   "file_extension": ".py",
   "mimetype": "text/x-python",
   "name": "python",
   "nbconvert_exporter": "python",
   "pygments_lexer": "ipython3",
   "version": "3.7.3"
  }
 },
 "nbformat": 4,
 "nbformat_minor": 4
}
